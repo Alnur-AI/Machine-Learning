{
 "cells": [
  {
   "cell_type": "code",
   "id": "initial_id",
   "metadata": {
    "collapsed": true,
    "ExecuteTime": {
     "end_time": "2024-10-02T17:41:52.996150Z",
     "start_time": "2024-10-02T17:41:52.989937Z"
    }
   },
   "source": [
    "import numpy as np\n",
    "import pandas as pd\n",
    "from sklearn import linear_model\n",
    "import sklearn\n",
    "from sklearn.utils import shuffle\n",
    "import matplotlib.pyplot as plt\n",
    "from matplotlib import style\n",
    "import pickle"
   ],
   "outputs": [],
   "execution_count": 83
  },
  {
   "metadata": {},
   "cell_type": "markdown",
   "source": "Now it's time to upload student data and 6 columns",
   "id": "5a5d71949e296c43"
  },
  {
   "metadata": {
    "ExecuteTime": {
     "end_time": "2024-10-02T17:41:53.025044Z",
     "start_time": "2024-10-02T17:41:53.008153Z"
    }
   },
   "cell_type": "code",
   "source": [
    "style.use(\"ggplot\")\n",
    "\n",
    "#Open data file\n",
    "data = pd.read_csv(\"student-mat.csv\", sep=\";\")\n",
    "\n",
    "# get G1  G2  absences  failures  studytime information of students\n",
    "predict = \"G3\"\n",
    "data = data[[\"G1\", \"G2\", \"absences\",\"failures\", \"studytime\",\"G3\"]]\n",
    "\n",
    "# sklearn.model_selection train_test_split\n",
    "x = np.array(data.drop([predict], axis = 1))\n",
    "y = np.array(data[predict])\n",
    "\n",
    "x_train, x_test, y_train, y_test = sklearn.model_selection.train_test_split(x, y, test_size=0.1)\n"
   ],
   "id": "597b550416b9753d",
   "outputs": [],
   "execution_count": 84
  },
  {
   "metadata": {},
   "cell_type": "markdown",
   "source": "We can also check the content of collected data",
   "id": "3d67e5f1e160281d"
  },
  {
   "metadata": {
    "ExecuteTime": {
     "end_time": "2024-10-02T17:41:53.058715Z",
     "start_time": "2024-10-02T17:41:53.047841Z"
    }
   },
   "cell_type": "code",
   "source": [
    "\n",
    "print(\"\\nINFO: data.drop([predict], axis=1)\")\n",
    "print(data.drop([predict], axis=1)) # G1  G2  absences  failures  studytime\n",
    "print(\"\\nINFO: data[predict], predict = G3\")\n",
    "print(data[predict]) # Name: G3, Length: 395, dtype: int64\n",
    "print(\"\\n\")\n"
   ],
   "id": "ad994bf3edc77a90",
   "outputs": [
    {
     "name": "stdout",
     "output_type": "stream",
     "text": [
      "\n",
      "INFO: data.drop([predict], axis=1)\n",
      "     G1  G2  absences  failures  studytime\n",
      "0     5   6         6         0          2\n",
      "1     5   5         4         0          2\n",
      "2     7   8        10         3          2\n",
      "3    15  14         2         0          3\n",
      "4     6  10         4         0          2\n",
      "..   ..  ..       ...       ...        ...\n",
      "390   9   9        11         2          2\n",
      "391  14  16         3         0          1\n",
      "392  10   8         3         3          1\n",
      "393  11  12         0         0          1\n",
      "394   8   9         5         0          1\n",
      "\n",
      "[395 rows x 5 columns]\n",
      "\n",
      "INFO: data[predict], predict = G3\n",
      "0       6\n",
      "1       6\n",
      "2      10\n",
      "3      15\n",
      "4      10\n",
      "       ..\n",
      "390     9\n",
      "391    16\n",
      "392     7\n",
      "393    10\n",
      "394     9\n",
      "Name: G3, Length: 395, dtype: int64\n",
      "\n",
      "\n"
     ]
    }
   ],
   "execution_count": 85
  },
  {
   "metadata": {},
   "cell_type": "markdown",
   "source": [
    "And rewritten my_train_test_split that works same as regular sklearn function\n",
    "$$$$\n",
    "\n",
    "Input:\n",
    "$$\\dim(X) = n_{samples} \\times n_{features}$$\n",
    "$$\\dim(y) = n_{samples} \\times 1$$\n",
    "\n",
    "In function:\n",
    "$$n_{samples} = rows(X)$$\n",
    "$$test_{size} = (test_{size} * n_{samples})$$\n",
    "\n",
    "$$dim(train_{indices}) = n_{samples} - test_{size}$$\n",
    "$$dim(test_{indices}) = test_{size}$$\n",
    "\n",
    "Output:\n",
    "$$dim(X_{train}) = train_{indices} \\times n_{features}$$\n",
    "$$dim(y_{train}) = train_{indices} \\times 1$$\n",
    "$$dim(X_{test}) = test_{indices} \\times n_{features}$$\n",
    "$$dim(y_{test}) = test_{indices} \\times 1$$\n"
   ],
   "id": "102cd4db860df5a4"
  },
  {
   "metadata": {
    "ExecuteTime": {
     "end_time": "2024-10-02T17:41:53.134492Z",
     "start_time": "2024-10-02T17:41:53.122996Z"
    }
   },
   "cell_type": "code",
   "source": [
    "import random\n",
    "def my_train_test_split(X, y, test_size=0.10, random_state=None):\n",
    "    \"\"\"Splits data into training and testing sets.\n",
    "\n",
    "    Args:\n",
    "        X: Input data matrix.\n",
    "        y: Target variable.\n",
    "        test_size: Proportion of data to be used for testing.\n",
    "        random_state: Seed for random number generator.\n",
    "\n",
    "    Returns:\n",
    "        Tuple of training and testing data.\n",
    "    \"\"\"\n",
    "\n",
    "    if random_state is not None:\n",
    "        random.seed(random_state)\n",
    "\n",
    "    n_samples = len(X)\n",
    "    test_size = int(test_size * n_samples)\n",
    "\n",
    "    indices = list(range(n_samples))\n",
    "    random.shuffle(indices)\n",
    "\n",
    "    train_indices = indices[:n_samples - test_size]\n",
    "    test_indices = indices[n_samples - test_size:]\n",
    "\n",
    "    X_train = X[train_indices]\n",
    "    y_train = y[train_indices]\n",
    "    X_test = X[test_indices]\n",
    "    y_test = y[test_indices]\n",
    "\n",
    "    return X_train, X_test, y_train, y_test\n",
    "\n",
    "\n",
    "X_train, X_test, Y_train, Y_test = my_train_test_split(x, y, test_size = 0.1)\n",
    "\n",
    "print( \"x_train equality: \",np.array_equal(X_train.sort(),x_train.sort())  )\n",
    "print( \"x_test equality: \",np.array_equal(X_test.sort(),x_test.sort())  )\n",
    "print( \"y_train equality: \",np.array_equal(Y_train.sort(),y_train.sort())  )\n",
    "print( \"y_test equality: \",np.array_equal(Y_test.sort(),y_test.sort())  )\n",
    "print(\"\\n\")"
   ],
   "id": "e2ac12a2ba04cd6",
   "outputs": [
    {
     "name": "stdout",
     "output_type": "stream",
     "text": [
      "x_train equality:  True\n",
      "x_test equality:  True\n",
      "y_train equality:  True\n",
      "y_test equality:  True\n",
      "\n",
      "\n"
     ]
    }
   ],
   "execution_count": 86
  },
  {
   "metadata": {},
   "cell_type": "markdown",
   "source": [
    "We implement linear regression without scikit-learn\n",
    "\n",
    "$$ m = n_{features} $$\n",
    "$$ n = n_{samples} $$\n",
    "$$ dim(X) = n \\times m, \\quad  dim(y) = n \\times 1,\\quad dim(w) = m \\times 1,\\quad \\dim(b) = 1 \\times 1 $$\n",
    "$$$$\n",
    "$$ y = f_{w,b}(X) = Xw+b $$\n",
    "$$ y_1 = f_{w,b}(x_{11},x_{12},...,x_{1m}) = x_{11}w_1+x_{12}w_2 + \\dots + x_{1m}w_m + b $$\n",
    "$$ y_2 = f_{w,b}(x_{21},x_{22},...,x_{2m}) = x_{21}w_1+x_{22}w_2 + \\dots + x_{2m}w_m + b $$\n",
    "$$\\dots$$\n",
    "$$ y_n = f_{w,b}(x_{n1},x_{n2},...,x_{nm}) = x_{n1}w_1+x_{n2}w_2 + \\dots + x_{nm}w_m + b $$\n",
    "$$$$\n",
    "In code we update X in X = np.insert(X, 0, 1, axis=1)\n",
    "$$X =\n",
    "\\begin{bmatrix}\n",
    "1 & x_{11} & x_{12} & \\dots & x_{1m} \\\\\n",
    "1 & x_{21} & x_{22} & \\dots & x_{2m} \\\\\n",
    "\\dots & \\dots & \\dots & \\dots & \\dots \\\\\n",
    "1 & x_{n1} & x_{n2} & \\dots & x_{nm} \\\\\n",
    "\\end{bmatrix}\n",
    "$$\n",
    "$$XT\\_X\\_inv = (X^T * X) ^ {-1}$$\n",
    "$$weights = (X^T * X) ^ {-1} \\times X^T \\times y$$\n",
    "$$intercept\\_ = column(weights,1,1)$$\n",
    "$$coef\\_ = column(weights,2,m)$$\n",
    "$$$$\n",
    "$$y_{predict} = X \\times coef\\_ + intercept\\_$$"
   ],
   "id": "a0e6b5b252e5a99e"
  },
  {
   "metadata": {
    "ExecuteTime": {
     "end_time": "2024-10-02T17:41:53.149642Z",
     "start_time": "2024-10-02T17:41:53.141499Z"
    }
   },
   "cell_type": "code",
   "source": [
    "# eImplement linear regression from scratch (without scikit-learn)\n",
    "class LinearRegression:\n",
    "    def __init__(self):\n",
    "        self.coef_ = None  # Coefficients (weights)\n",
    "        self.intercept_ = None  # Intercept (bias)\n",
    "\n",
    "    def fit(self, X, y):\n",
    "        \"\"\"Fits the linear regression model to the data.\n",
    "\n",
    "        Args:\n",
    "            X: Training data matrix.\n",
    "            y: Training target variable.\n",
    "        \"\"\"\n",
    "\n",
    "        X = np.insert(X, 0, 1, axis=1)  # add ones vector\n",
    "        XT_X_inv = np.linalg.inv(X.T @ X)  # (X.T * X) ** (-1) inverse matrix\n",
    "        weights = np.linalg.multi_dot([XT_X_inv, X.T, y])  # XT_X_inv * X.T * y\n",
    "        self.intercept_, self.coef_ = weights[0], weights[1:]\n",
    "\n",
    "    def predict(self, X):\n",
    "        \"\"\"Predicts the target variable for a given input.\n",
    "\n",
    "        Args:\n",
    "            X: Input data matrix.\n",
    "\n",
    "        Returns:\n",
    "            Predicted target variable.\n",
    "        \"\"\"\n",
    "\n",
    "        return X @ self.coef_ + self.intercept_\n",
    "\n"
   ],
   "id": "585d2824ee50f0d9",
   "outputs": [],
   "execution_count": 87
  },
  {
   "metadata": {},
   "cell_type": "markdown",
   "source": "TRAIN MODEL MULTIPLE TIMES FOR BEST SCORE",
   "id": "f4da9607b4a189cd"
  },
  {
   "metadata": {
    "ExecuteTime": {
     "end_time": "2024-10-02T17:41:53.463047Z",
     "start_time": "2024-10-02T17:41:53.173798Z"
    }
   },
   "cell_type": "code",
   "source": [
    "best = 0\n",
    "for _ in range(100):\n",
    "    x_train, x_test, y_train, y_test = sklearn.model_selection.train_test_split(x, y, test_size=0.1)\n",
    "\n",
    "    linear = linear_model.LinearRegression()\n",
    "    my_linear = LinearRegression()\n",
    "\n",
    "    linear.fit(x_train, y_train)\n",
    "    my_linear.fit(x_train, y_train)\n",
    "\n",
    "    acc = linear.score(x_test, y_test)\n",
    "\n",
    "    my_predicted = linear.predict(x_test)\n",
    "    mse = np.mean((my_predicted - y_test) ** 2)\n",
    "    my_acc = 1 - mse  # Higher value indicates better fit (closer to 1)\n",
    "    print(\"Accuracy: \" + str(acc)+\" My accuracy (1 - MSE):\", my_acc)\n",
    "\n",
    "    if acc > best:\n",
    "        best = acc\n",
    "        with open(\"studentgrades.pickle\", \"wb\") as f:\n",
    "            pickle.dump(linear, f)\n",
    "        with open(\"my_studentgrades.pickle\", \"wb\") as f:\n",
    "            pickle.dump(my_linear, f)\n",
    "print(best)\n",
    "\n",
    "\n",
    "# LOAD MODEL\n",
    "pickle_in = open(\"studentgrades.pickle\", \"rb\")\n",
    "my_pickle_in = open(\"my_studentgrades.pickle\", \"rb\")\n",
    "linear = pickle.load(pickle_in)\n",
    "my_linear = pickle.load(my_pickle_in)\n",
    "\n",
    "print(\"-------------------------\")\n",
    "print('Coefficient: \\n', linear.coef_)\n",
    "print(\"My Coefficient:\\n\", my_linear.coef_)\n",
    "print('Intercept: \\n', linear.intercept_)\n",
    "print(\"My Intercept:\\n\", my_linear.intercept_)\n",
    "print(\"-------------------------\")\n",
    "\n",
    "predicted= linear.predict(x_test)\n",
    "for x in range(len(predicted)):\n",
    "    print(predicted[x], x_test[x], y_test[x])"
   ],
   "id": "e9694f0668e8e4a",
   "outputs": [
    {
     "name": "stdout",
     "output_type": "stream",
     "text": [
      "Accuracy: 0.758692684269971 My accuracy (1 - MSE): -4.522167103409382\n",
      "Accuracy: 0.8376906814835845 My accuracy (1 - MSE): -1.7511429488532433\n",
      "Accuracy: 0.8349216824337984 My accuracy (1 - MSE): -3.319996396759019\n",
      "Accuracy: 0.8822943626840726 My accuracy (1 - MSE): -1.660073837316637\n",
      "Accuracy: 0.7827223551304903 My accuracy (1 - MSE): -5.433455266058138\n",
      "Accuracy: 0.9232036714289796 My accuracy (1 - MSE): 0.07695612828169218\n",
      "Accuracy: 0.7392600738685271 My accuracy (1 - MSE): -3.862799622351969\n",
      "Accuracy: 0.8680660505671229 My accuracy (1 - MSE): -1.7467823684741033\n",
      "Accuracy: 0.8009802949218285 My accuracy (1 - MSE): -2.9573824481637656\n",
      "Accuracy: 0.8911738959261055 My accuracy (1 - MSE): -2.0403292825644286\n",
      "Accuracy: 0.8585408332072024 My accuracy (1 - MSE): -2.0240433381130307\n",
      "Accuracy: 0.9031685212572312 My accuracy (1 - MSE): -1.0062877198759552\n",
      "Accuracy: 0.8864838288864203 My accuracy (1 - MSE): -1.3131757768669692\n",
      "Accuracy: 0.8245049123542769 My accuracy (1 - MSE): -1.7893847336989905\n",
      "Accuracy: 0.828276216300163 My accuracy (1 - MSE): -1.4555427795428564\n",
      "Accuracy: 0.697116595106045 My accuracy (1 - MSE): -4.488057994550405\n",
      "Accuracy: 0.8907555817810882 My accuracy (1 - MSE): -0.943458200114442\n",
      "Accuracy: 0.8165323481544654 My accuracy (1 - MSE): -3.3646954374052687\n",
      "Accuracy: 0.9028444011169734 My accuracy (1 - MSE): -0.3018243027832548\n",
      "Accuracy: 0.6721463506604104 My accuracy (1 - MSE): -7.3961270510560535\n",
      "Accuracy: 0.8033169484608822 My accuracy (1 - MSE): -3.3683305746838066\n",
      "Accuracy: 0.5726493136299877 My accuracy (1 - MSE): -9.909194646310485\n",
      "Accuracy: 0.8928153228419077 My accuracy (1 - MSE): -1.1098633794338237\n",
      "Accuracy: 0.8694340516394179 My accuracy (1 - MSE): -2.4625273468049116\n",
      "Accuracy: 0.8841180406806617 My accuracy (1 - MSE): -1.8448296750651796\n",
      "Accuracy: 0.7344034470301546 My accuracy (1 - MSE): -4.58931345940479\n",
      "Accuracy: 0.7918407171097448 My accuracy (1 - MSE): -5.839983936221981\n",
      "Accuracy: 0.8443493174258148 My accuracy (1 - MSE): -2.7663573915888477\n",
      "Accuracy: 0.793962712006668 My accuracy (1 - MSE): -3.7058916577677037\n",
      "Accuracy: 0.7529515783484116 My accuracy (1 - MSE): -5.284911846816408\n",
      "Accuracy: 0.8346890944500833 My accuracy (1 - MSE): -2.9591961879205035\n",
      "Accuracy: 0.8640152299567327 My accuracy (1 - MSE): -2.5620360608021073\n",
      "Accuracy: 0.8631882752443621 My accuracy (1 - MSE): -2.775234037303855\n",
      "Accuracy: 0.9406867294434977 My accuracy (1 - MSE): -0.2663012555872257\n",
      "Accuracy: 0.8244495950452373 My accuracy (1 - MSE): -2.510020628067383\n",
      "Accuracy: 0.8320172681984541 My accuracy (1 - MSE): -2.5175584039243715\n",
      "Accuracy: 0.770926956559562 My accuracy (1 - MSE): -3.5034328633868608\n",
      "Accuracy: 0.7675859887501641 My accuracy (1 - MSE): -5.338946898082241\n",
      "Accuracy: 0.8262153669969063 My accuracy (1 - MSE): -2.4544040425189935\n",
      "Accuracy: 0.9269124998810441 My accuracy (1 - MSE): -0.08735928301976648\n",
      "Accuracy: 0.8380320000688495 My accuracy (1 - MSE): -3.5189071980790985\n",
      "Accuracy: 0.8534252966008372 My accuracy (1 - MSE): -1.7621086763675975\n",
      "Accuracy: 0.7405890099872776 My accuracy (1 - MSE): -2.6186211788087186\n",
      "Accuracy: 0.856235523826752 My accuracy (1 - MSE): -1.4144345245320897\n",
      "Accuracy: 0.6689721337232911 My accuracy (1 - MSE): -6.2031663701811866\n",
      "Accuracy: 0.7165467197284943 My accuracy (1 - MSE): -4.463384818933105\n",
      "Accuracy: 0.9063203948270724 My accuracy (1 - MSE): -1.6782999118940016\n",
      "Accuracy: 0.8373819705663132 My accuracy (1 - MSE): -1.8660411325003334\n",
      "Accuracy: 0.8627373277644302 My accuracy (1 - MSE): -2.04036819001787\n",
      "Accuracy: 0.8248897095174764 My accuracy (1 - MSE): -1.6927584918950065\n",
      "Accuracy: 0.8783168347789497 My accuracy (1 - MSE): -1.0484600345181185\n",
      "Accuracy: 0.9124809153849123 My accuracy (1 - MSE): -1.3435422882805108\n",
      "Accuracy: 0.7215763405276994 My accuracy (1 - MSE): -4.644865681013725\n",
      "Accuracy: 0.8362141319975145 My accuracy (1 - MSE): -2.910285232391839\n",
      "Accuracy: 0.8187307970768212 My accuracy (1 - MSE): -1.6990984315261324\n",
      "Accuracy: 0.8042915563721377 My accuracy (1 - MSE): -3.999861463582813\n",
      "Accuracy: 0.9250281563330788 My accuracy (1 - MSE): -0.4552034855749405\n",
      "Accuracy: 0.8064026766897712 My accuracy (1 - MSE): -2.6395086799052323\n",
      "Accuracy: 0.760090576904134 My accuracy (1 - MSE): -4.455540281199996\n",
      "Accuracy: 0.8227323640295849 My accuracy (1 - MSE): -2.885595788199015\n",
      "Accuracy: 0.7690731793601728 My accuracy (1 - MSE): -4.477439856313801\n",
      "Accuracy: 0.8554863545702904 My accuracy (1 - MSE): -1.7456689421360894\n",
      "Accuracy: 0.9001481981536458 My accuracy (1 - MSE): -1.3562528940693435\n",
      "Accuracy: 0.8707669304657807 My accuracy (1 - MSE): -0.7994897225955444\n",
      "Accuracy: 0.9304713057945777 My accuracy (1 - MSE): -0.5754767552609898\n",
      "Accuracy: 0.931458195481371 My accuracy (1 - MSE): -0.12027295622916756\n",
      "Accuracy: 0.8531925009186135 My accuracy (1 - MSE): -2.2429776547078264\n",
      "Accuracy: 0.8223022887153251 My accuracy (1 - MSE): -3.877691113694773\n",
      "Accuracy: 0.7239745132890697 My accuracy (1 - MSE): -2.5329537139707137\n",
      "Accuracy: 0.8238678455284995 My accuracy (1 - MSE): -1.5749420157767928\n",
      "Accuracy: 0.9122022138056941 My accuracy (1 - MSE): -0.5052381706850031\n",
      "Accuracy: 0.882146609151993 My accuracy (1 - MSE): -2.40331129421332\n",
      "Accuracy: 0.7600932558941271 My accuracy (1 - MSE): -2.828911635929731\n",
      "Accuracy: 0.811200299401537 My accuracy (1 - MSE): -2.148707006730866\n",
      "Accuracy: 0.9464120229622514 My accuracy (1 - MSE): -0.20033719315992227\n",
      "Accuracy: 0.8444243891108548 My accuracy (1 - MSE): -1.778483175723328\n",
      "Accuracy: 0.5197617824524261 My accuracy (1 - MSE): -9.642078900854235\n",
      "Accuracy: 0.826433574608735 My accuracy (1 - MSE): -2.7572791936574093\n",
      "Accuracy: 0.6905057531295578 My accuracy (1 - MSE): -4.833773119603541\n",
      "Accuracy: 0.816545717117181 My accuracy (1 - MSE): -3.9091219510174344\n",
      "Accuracy: 0.8623835521598125 My accuracy (1 - MSE): -1.666662718023233\n",
      "Accuracy: 0.7016054823634451 My accuracy (1 - MSE): -7.099732684670759\n",
      "Accuracy: 0.9320032970564507 My accuracy (1 - MSE): -0.008221112895477445\n",
      "Accuracy: 0.9198059712111262 My accuracy (1 - MSE): -0.8917771391295339\n",
      "Accuracy: 0.8016142314820934 My accuracy (1 - MSE): -3.3625030497087653\n",
      "Accuracy: 0.8372830767535155 My accuracy (1 - MSE): -2.3194252342282824\n",
      "Accuracy: 0.7866592732066227 My accuracy (1 - MSE): -4.480189919504879\n",
      "Accuracy: 0.7978483597963729 My accuracy (1 - MSE): -3.671724405105823\n",
      "Accuracy: 0.7957675580710449 My accuracy (1 - MSE): -3.290923604927346\n",
      "Accuracy: 0.9262604987692704 My accuracy (1 - MSE): -0.7879985560921157\n",
      "Accuracy: 0.8404877430530369 My accuracy (1 - MSE): -4.188036462039382\n",
      "Accuracy: 0.7911587520232729 My accuracy (1 - MSE): -2.6117788579775096\n",
      "Accuracy: 0.9261963980816112 My accuracy (1 - MSE): -0.31351960514252464\n",
      "Accuracy: 0.8143418004160045 My accuracy (1 - MSE): -1.1462087871909885\n",
      "Accuracy: 0.8417895888980444 My accuracy (1 - MSE): -1.5937608085096224\n",
      "Accuracy: 0.8990480511470497 My accuracy (1 - MSE): -0.8317100169687499\n",
      "Accuracy: 0.8586839018502623 My accuracy (1 - MSE): -0.9399167373505235\n",
      "Accuracy: 0.8702544325507721 My accuracy (1 - MSE): -2.0774837689160317\n",
      "Accuracy: 0.9610157229515008 My accuracy (1 - MSE): 0.2557901511441516\n",
      "Accuracy: 0.8438973943141094 My accuracy (1 - MSE): -2.955249771566254\n",
      "0.9610157229515008\n",
      "-------------------------\n",
      "Coefficient: \n",
      " [ 0.16430504  0.97786464  0.03836476 -0.25762806 -0.18440052]\n",
      "My Coefficient:\n",
      " [ 0.16430504  0.97786464  0.03836476 -0.25762806 -0.18440052]\n",
      "Intercept: \n",
      " -1.6499112908505946\n",
      "My Intercept:\n",
      " -1.6499112908504756\n",
      "-------------------------\n",
      "13.97166327443398 [14 14  0  0  2] 14\n",
      "14.416421830509096 [13 15  0  0  4] 15\n",
      "8.899223409327801 [ 6 10  4  0  2] 10\n",
      "11.890073007594681 [12 12 12  1  2] 13\n",
      "7.025322140135906 [9 8 0 1 2] 0\n",
      "12.362271041097756 [11 13  6  0  4] 14\n",
      "11.948453950839987 [12 12  2  0  1] 11\n",
      "9.289240169118234 [ 9  9 22  0  1] 9\n",
      "5.367896332762607 [8 7 0 3 2] 0\n",
      "-0.37566189469173716 [10  0  0  0  2] 0\n",
      "5.382258466693668 [ 7  6 10  0  2] 6\n",
      "9.556443584778387 [10 10  4  0  2] 10\n",
      "15.984026609581788 [15 16  2  0  3] 18\n",
      "9.930841734394564 [12 10 10  0  3] 12\n",
      "9.04980209706858 [11  9 12  0  2] 9\n",
      "15.354867532272868 [16 15  2  0  2] 15\n",
      "10.534308227183752 [10 11  4  0  2] 9\n",
      "9.567289573224576 [11 10  0  0  2] 10\n",
      "5.395415108170533 [7 7 5 3 2] 7\n",
      "17.04946676814157 [16 17  0  0  3] 17\n",
      "15.354867532272868 [16 15  2  0  2] 15\n",
      "4.009900197300969 [6 5 4 0 2] 6\n",
      "11.917512485022641 [12 12  6  0  2] 12\n",
      "4.577948357075914 [ 6  5 14  0  1] 5\n",
      "16.440403168203808 [16 16  0  0  1] 15\n",
      "18.401729560163112 [18 18  6  0  4] 18\n",
      "7.31852712966273 [5 9 6 2 2] 7\n",
      "5.873577098760384 [ 7  6 18  0  1] 6\n",
      "13.940721808616635 [14 14  4  0  3] 14\n",
      "12.674438033228288 [10 13  4  0  1] 14\n",
      "9.034183486894324 [10 10  0  0  4] 10\n",
      "15.102986972255804 [14 15  4  0  2] 15\n",
      "11.254544809036476 [10 12  4  1  2] 12\n",
      "7.984361938508796 [10  8 14  0  2] 9\n",
      "5.718847410005247 [7 7 0 1 2] 0\n",
      "-1.692347757739099 [4 0 0 2 1] 0\n",
      "9.479714057070158 [10 10  2  0  2] 11\n",
      "3.845595153438323 [5 5 4 0 2] 6\n",
      "5.996094688359498 [ 7  6 26  0  2] 6\n",
      "9.402984529361929 [10 10  0  0  2] 10\n"
     ]
    }
   ],
   "execution_count": 88
  },
  {
   "metadata": {},
   "cell_type": "markdown",
   "source": "Driving plots",
   "id": "a6da630ea563e64e"
  },
  {
   "metadata": {
    "ExecuteTime": {
     "end_time": "2024-10-02T17:41:53.667060Z",
     "start_time": "2024-10-02T17:41:53.487611Z"
    }
   },
   "cell_type": "code",
   "source": [
    "# Drawing and plotting model\n",
    "# put plot [\"G1\", \"G2\", \"absences\",\"failures\", \"studytime\"]\n",
    "plot = \"G1\"\n",
    "column_index = {'G1': 0, 'G2': 1, 'absences': 2, 'failures': 3, 'studytime': 4}\n",
    "index = column_index[plot]\n",
    "\n",
    "pickle_in = open(\"studentgrades.pickle\", \"rb\")\n",
    "linear = pickle.load(pickle_in)\n",
    "predicted= linear.predict(x_test)\n",
    "\n",
    "\n",
    "plt.scatter(data[plot], data[\"G3\"])\n",
    "plt.scatter(x_test[:, index], y_test)\n",
    "plt.xlabel(plot)\n",
    "plt.ylabel(\"Final Grade\")\n",
    "plt.show()"
   ],
   "id": "2b8cab125d8d74ec",
   "outputs": [
    {
     "data": {
      "text/plain": [
       "<Figure size 640x480 with 1 Axes>"
      ],
      "image/png": "[encoded data removed]"
     },
     "metadata": {},
     "output_type": "display_data"
    }
   ],
   "execution_count": 89
  },
  {
   "metadata": {},
   "cell_type": "markdown",
   "source": "Now calculate Evaluation criteria MSE, RMSE, MAE, R-squared:",
   "id": "30307d557e9125b9"
  },
  {
   "metadata": {
    "ExecuteTime": {
     "end_time": "2024-10-02T17:46:24.641052Z",
     "start_time": "2024-10-02T17:46:24.627051Z"
    }
   },
   "cell_type": "code",
   "source": [
    "from sklearn.metrics import mean_squared_error, mean_absolute_error, r2_score\n",
    "\n",
    "pickle_in = open(\"studentgrades.pickle\", \"rb\")\n",
    "linear = pickle.load(pickle_in)\n",
    "predicted = linear.predict(x_test)\n",
    "\n",
    "print(\"Accuracy: \",linear.score(x_test, y_test))\n",
    "\n",
    "mse = mean_squared_error(y_test, predicted)\n",
    "rmse = np.sqrt(mse)\n",
    "mae = mean_absolute_error(y_test, predicted)\n",
    "r2 = r2_score(y_test, predicted)\n",
    "\n",
    "print(\"MSE: \", mse)\n",
    "print(\"RMSE: \", rmse)\n",
    "print(\"MAE: \", mae)\n",
    "print(\"R-squared: \", r2)"
   ],
   "id": "f437ea1301b725d9",
   "outputs": [
    {
     "name": "stdout",
     "output_type": "stream",
     "text": [
      "Accuracy:  0.8493079226189413\n",
      "MSE:  3.818160510642577\n",
      "RMSE:  1.954011389588755\n",
      "MAE:  1.2169306090009187\n",
      "R-squared:  0.8493079226189413\n"
     ]
    }
   ],
   "execution_count": 92
  }
 ],
 "metadata": {
  "kernelspec": {
   "display_name": "Python 3",
   "language": "python",
   "name": "python3"
  },
  "language_info": {
   "codemirror_mode": {
    "name": "ipython",
    "version": 2
   },
   "file_extension": ".py",
   "mimetype": "text/x-python",
   "name": "python",
   "nbconvert_exporter": "python",
   "pygments_lexer": "ipython2",
   "version": "2.7.6"
  }
 },
 "nbformat": 4,
 "nbformat_minor": 5
}
