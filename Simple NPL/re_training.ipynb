{
 "cells": [
  {
   "cell_type": "code",
   "id": "initial_id",
   "metadata": {
    "collapsed": true,
    "ExecuteTime": {
     "end_time": "2024-10-07T03:45:13.968833Z",
     "start_time": "2024-10-07T03:45:13.962083Z"
    }
   },
   "source": [
    "import re\n",
    "# https://regex101.com\n",
    "\n",
    "chat1='Hello, I am having an issue with my order # 412853912'\n",
    "chat2='I have a problem with my order number 414389913'\n",
    "chat3 = 'My order 412886614 is having an issue, I was charged 300$ when online it says 280$'\n",
    "\n",
    "\n",
    "def get_pattern_match(pattern, text):\n",
    "    matches = re.findall(pattern, text)\n",
    "    if matches:\n",
    "        return matches[0]\n",
    "    \n",
    "pattern = r'order[^\\d]*(\\d*)'\n",
    "print(get_pattern_match(pattern, chat1))\n",
    "print(get_pattern_match(pattern, chat2))\n",
    "print(get_pattern_match(pattern, chat3))\n",
    "\n"
   ],
   "outputs": [
    {
     "name": "stdout",
     "output_type": "stream",
     "text": [
      "412853912\n",
      "414389913\n",
      "412886614\n"
     ]
    }
   ],
   "execution_count": 28
  },
  {
   "metadata": {
    "ExecuteTime": {
     "end_time": "2024-10-07T03:46:43.229625Z",
     "start_time": "2024-10-07T03:46:43.217369Z"
    }
   },
   "cell_type": "code",
   "source": [
    "\n",
    "chat1 = 'you ask lot of questions 😠  1235678912, abc@xyz.com'\n",
    "chat2 = 'here it is: (123)-567-8912, abc@xyz.com'\n",
    "chat3 = 'yes, phone: 1235678912 email: abc@xyz.com'\n",
    "\n",
    "\n",
    "pattern = r'[a-zA-Z0-9_]*@[a-z]*\\.[a-zA-Z0-9]*'\n",
    "print(get_pattern_match(pattern, chat1))\n",
    "print(get_pattern_match(pattern, chat2))\n",
    "print(get_pattern_match(pattern, chat3))\n",
    "\n",
    "pattern = r'(\\d{10})|(\\(\\d{3}\\)-\\d{3}-\\d{4})'\n",
    "print(get_pattern_match(pattern, chat1))\n",
    "print(get_pattern_match(pattern, chat2))\n",
    "print(get_pattern_match(pattern, chat3))"
   ],
   "id": "7b15058fc11bd902",
   "outputs": [
    {
     "name": "stdout",
     "output_type": "stream",
     "text": [
      "abc@xyz.com\n",
      "abc@xyz.com\n",
      "abc@xyz.com\n",
      "('1235678912', '')\n",
      "('', '(123)-567-8912')\n",
      "('1235678912', '')\n"
     ]
    }
   ],
   "execution_count": 30
  },
  {
   "metadata": {
    "ExecuteTime": {
     "end_time": "2024-10-07T03:48:30.926292Z",
     "start_time": "2024-10-07T03:48:30.914949Z"
    }
   },
   "cell_type": "code",
   "source": [
    "text='''\n",
    "Born\tElon Reeve Musk\n",
    "June 28, 1971 (age 50)\n",
    "Pretoria, Transvaal, South Africa\n",
    "Citizenship\t\n",
    "South Africa (1971–present)\n",
    "Canada (1971–present)\n",
    "United States (2002–present)\n",
    "Education\tUniversity of Pennsylvania (BS, BA)\n",
    "Title\t\n",
    "Founder, CEO and Chief Engineer of SpaceX\n",
    "CEO and product architect of Tesla, Inc.\n",
    "Founder of The Boring Company and X.com (now part of PayPal)\n",
    "Co-founder of Neuralink, OpenAI, and Zip2\n",
    "Spouse(s)\t\n",
    "Justine Wilson\n",
    "​\n",
    "​(m. 2000; div. 2008)​\n",
    "Talulah Riley\n",
    "​\n",
    "​(m. 2010; div. 2012)​\n",
    "​\n",
    "​(m. 2013; div. 2016)\n",
    "'''\n",
    "\n",
    "def extract_personal_information(text):\n",
    "    age = get_pattern_match(r'age (\\d+)', text)\n",
    "    full_name = get_pattern_match(r'Born(.*)\\n', text)\n",
    "    birth_date = get_pattern_match(r'Born.*\\n(.*)\\(age', text)\n",
    "    birth_place = get_pattern_match(r'\\(age.*\\n(.*)', text)\n",
    "    return {\n",
    "        'age': int(age),\n",
    "        'name': full_name.strip(),\n",
    "        'birth_date': birth_date.strip(),\n",
    "        'birth_place': birth_place.strip()\n",
    "    }\n",
    "\n",
    "extract_personal_information(text)"
   ],
   "id": "b42ba4d1c79920fb",
   "outputs": [
    {
     "data": {
      "text/plain": [
       "{'age': 50,\n",
       " 'name': 'Elon Reeve Musk',\n",
       " 'birth_date': 'June 28, 1971',\n",
       " 'birth_place': 'Pretoria, Transvaal, South Africa'}"
      ]
     },
     "execution_count": 32,
     "metadata": {},
     "output_type": "execute_result"
    }
   ],
   "execution_count": 32
  },
  {
   "metadata": {},
   "cell_type": "code",
   "outputs": [],
   "execution_count": null,
   "source": "",
   "id": "9cc25a799ca8645f"
  }
 ],
 "metadata": {
  "kernelspec": {
   "display_name": "Python 3",
   "language": "python",
   "name": "python3"
  },
  "language_info": {
   "codemirror_mode": {
    "name": "ipython",
    "version": 2
   },
   "file_extension": ".py",
   "mimetype": "text/x-python",
   "name": "python",
   "nbconvert_exporter": "python",
   "pygments_lexer": "ipython2",
   "version": "2.7.6"
  }
 },
 "nbformat": 4,
 "nbformat_minor": 5
}
